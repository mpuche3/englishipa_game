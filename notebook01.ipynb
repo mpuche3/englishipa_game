{
 "cells": [
  {
   "cell_type": "code",
   "execution_count": 20,
   "metadata": {},
   "outputs": [],
   "source": [
    "import os\n",
    "import json"
   ]
  },
  {
   "cell_type": "code",
   "execution_count": 23,
   "metadata": {},
   "outputs": [],
   "source": [
    "path_json = os.path.join(\".\", \"data\", \"json_words\")"
   ]
  },
  {
   "cell_type": "code",
   "execution_count": 12,
   "metadata": {},
   "outputs": [],
   "source": [
    "path_dir = os.path.join(\".\", \"data\", \"sentences\")\n",
    "assert os.path.exists(path_dir)\n",
    "filenames = os.listdir(path_dir)"
   ]
  },
  {
   "cell_type": "code",
   "execution_count": 26,
   "metadata": {},
   "outputs": [
    {
     "name": "stdout",
     "output_type": "stream",
     "text": [
      "./data/sentences/kitchen.txt\n",
      "Saved JSON: ./data/json_words/kitchen.json\n",
      "./data/sentences/history.txt\n",
      "Saved JSON: ./data/json_words/history.json\n",
      "./data/sentences/clothing.txt\n",
      "Saved JSON: ./data/json_words/clothing.json\n",
      "./data/sentences/sentences_001.txt\n",
      "Saved JSON: ./data/json_words/sentences_001.json\n",
      "./data/sentences/british_history.txt\n",
      "Saved JSON: ./data/json_words/british_history.json\n",
      "./data/sentences/tools.txt\n",
      "Saved JSON: ./data/json_words/tools.json\n",
      "./data/sentences/house.txt\n",
      "Saved JSON: ./data/json_words/house.json\n"
     ]
    }
   ],
   "source": [
    "for filename in filenames:\n",
    "    words = []\n",
    "    path = os.path.join(path_dir, filename)\n",
    "    print(path)\n",
    "    with open(path, \"r\") as file:\n",
    "        text = file.read()\n",
    "        lines = text.split(\"\\n\")\n",
    "        for line in lines:\n",
    "            word = line.split(\":\")[0]\n",
    "            words.append(word)\n",
    "    \n",
    "    # Create the output JSON file path\n",
    "    json_file_path = os.path.join(path_json, filename.replace(\"txt\", \"json\"))\n",
    "    \n",
    "    # Write the words list to the JSON file\n",
    "    with open(json_file_path, \"w\") as json_file:\n",
    "        json.dump(words, json_file)\n",
    "    print(f\"Saved JSON: {json_file_path}\")\n"
   ]
  },
  {
   "cell_type": "code",
   "execution_count": null,
   "metadata": {},
   "outputs": [],
   "source": []
  }
 ],
 "metadata": {
  "kernelspec": {
   "display_name": "Python 3",
   "language": "python",
   "name": "python3"
  },
  "language_info": {
   "codemirror_mode": {
    "name": "ipython",
    "version": 3
   },
   "file_extension": ".py",
   "mimetype": "text/x-python",
   "name": "python",
   "nbconvert_exporter": "python",
   "pygments_lexer": "ipython3",
   "version": "3.12.1"
  }
 },
 "nbformat": 4,
 "nbformat_minor": 2
}
